{
 "cells": [
  {
   "cell_type": "code",
   "execution_count": 1,
   "metadata": {},
   "outputs": [
    {
     "data": {
      "text/plain": [
       "True"
      ]
     },
     "execution_count": 1,
     "metadata": {},
     "output_type": "execute_result"
    }
   ],
   "source": [
    "import os\n",
    "import numpy as np\n",
    "path_data_root = 'J:/Projects/2021-2022/GAImMMM/GAImMMM/Midi Processing/data/GAImMMM Data'\n",
    "train_data_name = 'train_data_linear'\n",
    "path_train_data = os.path.join(path_data_root,  train_data_name + '.npz')\n",
    "os.path.exists(path_train_data)"
   ]
  },
  {
   "cell_type": "code",
   "execution_count": 2,
   "metadata": {},
   "outputs": [],
   "source": [
    "train_data = np.load(path_train_data)\n",
    "train_x = train_data['x']"
   ]
  },
  {
   "cell_type": "code",
   "execution_count": 4,
   "metadata": {},
   "outputs": [],
   "source": [
    "class_0_idx = []\n",
    "class_1_idx = []\n",
    "class_2_idx = []\n",
    "class_3_idx = []\n",
    "class_4_idx = []\n",
    "class_5_idx = []\n",
    "class_6_idx = []\n",
    "class_7_idx = []\n",
    "class_8_idx = []\n",
    "class_9_idx = []\n",
    "class_10_idx = []\n",
    "class_11_idx = []\n",
    "class_12_idx = []\n",
    "class_13_idx = []\n",
    "class_14_idx = []\n",
    "class_15_idx = []\n",
    "class_16_idx = []\n",
    "class_17_idx = []\n",
    "class_18_idx = []\n",
    "class_19_idx = []\n",
    "class_20_idx = []\n",
    "class_21_idx = []\n",
    "class_22_idx = []\n",
    "class_23_idx = []\n",
    "class_24_idx = []\n",
    "class_25_idx = []\n",
    "class_26_idx = []\n",
    "idxs = [class_0_idx, class_1_idx, class_2_idx, class_3_idx, class_4_idx, class_5_idx, class_6_idx, class_7_idx, class_8_idx, class_9_idx, class_10_idx, class_11_idx, class_12_idx, class_13_idx, class_14_idx, class_15_idx, class_16_idx, class_17_idx, class_18_idx, class_19_idx, class_20_idx, class_21_idx, class_22_idx, class_23_idx, class_24_idx, class_25_idx, class_26_idx]\n",
    "for i, sample in enumerate(train_x):\n",
    "    idxs[sample[0][-1] - 1].append(i)"
   ]
  },
  {
   "cell_type": "code",
   "execution_count": 5,
   "metadata": {},
   "outputs": [
    {
     "data": {
      "text/plain": [
       "[5, 34, 220, 275, 346, 458, 657, 804, 977, 1000]"
      ]
     },
     "execution_count": 5,
     "metadata": {},
     "output_type": "execute_result"
    }
   ],
   "source": [
    "class_1_idx[:10]"
   ]
  },
  {
   "cell_type": "code",
   "execution_count": 6,
   "metadata": {},
   "outputs": [],
   "source": [
    "cls_1 = train_x[class_1_idx]"
   ]
  },
  {
   "cell_type": "code",
   "execution_count": 7,
   "metadata": {},
   "outputs": [
    {
     "data": {
      "text/plain": [
       "2"
      ]
     },
     "execution_count": 7,
     "metadata": {},
     "output_type": "execute_result"
    }
   ],
   "source": [
    "cls_1[0][0][-1]"
   ]
  },
  {
   "cell_type": "code",
   "execution_count": 8,
   "metadata": {},
   "outputs": [],
   "source": [
    "path_train = os.path.join(path_data_root, train_data_name + '_data_idx.npz')\n",
    "np.savez(\n",
    "        path_train, \n",
    "        cls_0_idx=class_0_idx,\n",
    "        cls_1_idx=class_1_idx,\n",
    "        cls_2_idx=class_2_idx,\n",
    "        cls_3_idx=class_3_idx,\n",
    "        cls_4_idx=class_4_idx,\n",
    "        cls_5_idx=class_5_idx,\n",
    "        cls_6_idx=class_6_idx,\n",
    "        cls_7_idx=class_7_idx,\n",
    "        cls_8_idx=class_8_idx,\n",
    "        cls_9_idx=class_9_idx,\n",
    "        cls_10_idx=class_10_idx,\n",
    "        cls_11_idx=class_11_idx,\n",
    "        cls_12_idx=class_12_idx,\n",
    "        cls_13_idx=class_13_idx,\n",
    "        cls_14_idx=class_14_idx,\n",
    "        cls_15_idx=class_15_idx,\n",
    "        cls_16_idx=class_16_idx,\n",
    "        cls_17_idx=class_17_idx,\n",
    "        cls_18_idx=class_18_idx,\n",
    "        cls_19_idx=class_19_idx,\n",
    "        cls_20_idx=class_20_idx,\n",
    "        cls_21_idx=class_21_idx,\n",
    "        cls_22_idx=class_22_idx,\n",
    "        cls_23_idx=class_23_idx,\n",
    "        cls_24_idx=class_24_idx,\n",
    "        cls_25_idx=class_25_idx,\n",
    "        cls_26_idx=class_26_idx\n",
    "    )\n",
    "   "
   ]
  },
  {
   "cell_type": "code",
   "execution_count": null,
   "metadata": {},
   "outputs": [],
   "source": []
  }
 ],
 "metadata": {
  "kernelspec": {
   "display_name": "Python 3 (ipykernel)",
   "language": "python",
   "name": "python3"
  },
  "language_info": {
   "codemirror_mode": {
    "name": "ipython",
    "version": 3
   },
   "file_extension": ".py",
   "mimetype": "text/x-python",
   "name": "python",
   "nbconvert_exporter": "python",
   "pygments_lexer": "ipython3",
   "version": "3.9.12"
  }
 },
 "nbformat": 4,
 "nbformat_minor": 5
}
